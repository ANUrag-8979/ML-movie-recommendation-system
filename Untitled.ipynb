{
 "cells": [
  {
   "cell_type": "code",
   "execution_count": 129,
   "id": "cfb3d2f4-e7f9-4b44-97dc-6d14f3804ef7",
   "metadata": {},
   "outputs": [],
   "source": [
    "# Import necessary libraries\n",
    "import pandas as pd\n",
    "import ast\n",
    "import numpy as np\n",
    "import matplotlib.pyplot as plt\n",
    "import seaborn as sns\n",
    "from sklearn.model_selection import train_test_split\n",
    "from sklearn.linear_model import LinearRegression\n",
    "from sklearn.metrics import mean_squared_error, r2_score\n",
    "from sklearn.feature_extraction.text import CountVectorizer\n",
    "# Load the dataset\n",
    "file_path1 = 'tmdb_5000_movies.csv'\n",
    "file_path2 = 'tmdb_5000_credits.csv'\n",
    "movies = pd.read_csv(file_path1)\n",
    "credits = pd.read_csv(file_path2)\n",
    "\n",
    "# Display the first few rows of the dataframe\n",
    "# movies.head()\n",
    "# credits.head()\n"
   ]
  },
  {
   "cell_type": "code",
   "execution_count": 130,
   "id": "68a4641f-5bc9-46a5-b748-107a2dc3bc47",
   "metadata": {},
   "outputs": [],
   "source": [
    "#merge dataframes\n",
    "movies = movies.merge(credits,on='title')\n",
    "# movies.head()\n"
   ]
  },
  {
   "cell_type": "code",
   "execution_count": 131,
   "id": "d15bc29d-3fa6-4c78-8e1e-fa0d24919503",
   "metadata": {},
   "outputs": [],
   "source": [
    "#which columns we will take\n",
    "#geners\n",
    "# id\n",
    "# keywords\n",
    "# title\n",
    "# overview\n",
    "# cast\n",
    "# crew\n",
    "movies = movies[['movie_id','title','overview','genres','keywords','cast','crew']]\n",
    "movies.dropna(inplace=True)\n",
    "# movies.head()"
   ]
  },
  {
   "cell_type": "code",
   "execution_count": 132,
   "id": "70457164-ed47-46c5-8d1b-a171dff90a11",
   "metadata": {},
   "outputs": [],
   "source": [
    "#modify genres / keywords\n",
    "\n",
    "def convert(obj):\n",
    "    g = []\n",
    "    if isinstance(obj, list):\n",
    "        return obj\n",
    "    for i in ast.literal_eval(obj):\n",
    "        g.append(i['name'])\n",
    "    return g"
   ]
  },
  {
   "cell_type": "code",
   "execution_count": 133,
   "id": "34c554df-d0fd-46ee-a082-8d6b7aab7b5c",
   "metadata": {},
   "outputs": [],
   "source": [
    "movies['genres'] = movies['genres'].apply(convert)\n",
    "movies['keywords'] = movies['keywords'].apply(convert)\n",
    "# movies.head()"
   ]
  },
  {
   "cell_type": "code",
   "execution_count": 134,
   "id": "783b5493-63bd-444f-a344-2c3df4c442fc",
   "metadata": {},
   "outputs": [],
   "source": [
    "#modify genres / keywords\n",
    "\n",
    "def convert3(obj):\n",
    "    g = []\n",
    "    counter = 0;\n",
    "    if isinstance(obj, list):\n",
    "        return obj\n",
    "    for i in ast.literal_eval(obj):\n",
    "        if(counter != 3):\n",
    "            g.append(i['name'])\n",
    "            counter+=1\n",
    "        else :\n",
    "            break;\n",
    "    return g\n",
    "movies['cast'] = movies['cast'].apply(convert3)\n",
    "# movies.head()"
   ]
  },
  {
   "cell_type": "code",
   "execution_count": 135,
   "id": "64bff7d8-5441-42cc-9b9e-12eb86228907",
   "metadata": {},
   "outputs": [],
   "source": [
    "def fetch_director(obj):\n",
    "    L = []\n",
    "    for i in ast.literal_eval(obj):\n",
    "        if i['job'] == 'Director':\n",
    "            L.append(i['name'])\n",
    "            break;\n",
    "    return L\n",
    "movies['crew'] = movies['crew'].apply(fetch_director)\n",
    "# movies.head()"
   ]
  },
  {
   "cell_type": "code",
   "execution_count": 136,
   "id": "9a2328b6-24a7-4fea-95bf-9da5c4a65716",
   "metadata": {},
   "outputs": [],
   "source": [
    "#datatype of iverview is series not string so we have so like this\n",
    "movies['overview'] = movies['overview'].apply(lambda x : x.split())\n",
    "# movies.head()"
   ]
  },
  {
   "cell_type": "code",
   "execution_count": 137,
   "id": "ebc651f0-ca6e-4486-a60e-0a67205bdfc4",
   "metadata": {},
   "outputs": [],
   "source": [
    "# remove spaces between \n",
    "movies['genres'] = movies['genres'].apply(lambda x : [i.replace(\" \",\"\")for i in x])\n",
    "movies['keywords'] = movies['keywords'].apply(lambda x : [i.replace(\" \",\"\")for i in x])\n",
    "movies['cast'] = movies['cast'].apply(lambda x : [i.replace(\" \",\"\")for i in x])\n",
    "movies['crew'] = movies['crew'].apply(lambda x : [i.replace(\" \",\"\")for i in x])\n",
    "# movies.head()"
   ]
  },
  {
   "cell_type": "code",
   "execution_count": 138,
   "id": "8256163b-c497-45ff-8313-e8cab755836c",
   "metadata": {},
   "outputs": [],
   "source": [
    "movies['tags'] = movies['overview'] + movies['genres'] + movies['keywords'] + movies['cast'] + movies['crew']\n",
    "# movies.head()"
   ]
  },
  {
   "cell_type": "code",
   "execution_count": 139,
   "id": "29bd0814-782e-4338-8d47-f1fbdd92d625",
   "metadata": {},
   "outputs": [
    {
     "name": "stderr",
     "output_type": "stream",
     "text": [
      "/var/folders/1y/n1cgtlhs7632mw73717q12m40000gn/T/ipykernel_3715/1499664229.py:3: SettingWithCopyWarning: \n",
      "A value is trying to be set on a copy of a slice from a DataFrame.\n",
      "Try using .loc[row_indexer,col_indexer] = value instead\n",
      "\n",
      "See the caveats in the documentation: https://pandas.pydata.org/pandas-docs/stable/user_guide/indexing.html#returning-a-view-versus-a-copy\n",
      "  new_df['tags'] = new_df['tags'].apply(lambda x : \" \".join(x))\n",
      "/var/folders/1y/n1cgtlhs7632mw73717q12m40000gn/T/ipykernel_3715/1499664229.py:4: SettingWithCopyWarning: \n",
      "A value is trying to be set on a copy of a slice from a DataFrame.\n",
      "Try using .loc[row_indexer,col_indexer] = value instead\n",
      "\n",
      "See the caveats in the documentation: https://pandas.pydata.org/pandas-docs/stable/user_guide/indexing.html#returning-a-view-versus-a-copy\n",
      "  new_df['tags'] = new_df['tags'].apply(lambda x : x.lower())\n"
     ]
    },
    {
     "data": {
      "text/html": [
       "<div>\n",
       "<style scoped>\n",
       "    .dataframe tbody tr th:only-of-type {\n",
       "        vertical-align: middle;\n",
       "    }\n",
       "\n",
       "    .dataframe tbody tr th {\n",
       "        vertical-align: top;\n",
       "    }\n",
       "\n",
       "    .dataframe thead th {\n",
       "        text-align: right;\n",
       "    }\n",
       "</style>\n",
       "<table border=\"1\" class=\"dataframe\">\n",
       "  <thead>\n",
       "    <tr style=\"text-align: right;\">\n",
       "      <th></th>\n",
       "      <th>movie_id</th>\n",
       "      <th>title</th>\n",
       "      <th>tags</th>\n",
       "    </tr>\n",
       "  </thead>\n",
       "  <tbody>\n",
       "    <tr>\n",
       "      <th>0</th>\n",
       "      <td>19995</td>\n",
       "      <td>Avatar</td>\n",
       "      <td>in the 22nd century, a paraplegic marine is di...</td>\n",
       "    </tr>\n",
       "    <tr>\n",
       "      <th>1</th>\n",
       "      <td>285</td>\n",
       "      <td>Pirates of the Caribbean: At World's End</td>\n",
       "      <td>captain barbossa, long believed to be dead, ha...</td>\n",
       "    </tr>\n",
       "    <tr>\n",
       "      <th>2</th>\n",
       "      <td>206647</td>\n",
       "      <td>Spectre</td>\n",
       "      <td>a cryptic message from bond’s past sends him o...</td>\n",
       "    </tr>\n",
       "    <tr>\n",
       "      <th>3</th>\n",
       "      <td>49026</td>\n",
       "      <td>The Dark Knight Rises</td>\n",
       "      <td>following the death of district attorney harve...</td>\n",
       "    </tr>\n",
       "    <tr>\n",
       "      <th>4</th>\n",
       "      <td>49529</td>\n",
       "      <td>John Carter</td>\n",
       "      <td>john carter is a war-weary, former military ca...</td>\n",
       "    </tr>\n",
       "  </tbody>\n",
       "</table>\n",
       "</div>"
      ],
      "text/plain": [
       "   movie_id                                     title  \\\n",
       "0     19995                                    Avatar   \n",
       "1       285  Pirates of the Caribbean: At World's End   \n",
       "2    206647                                   Spectre   \n",
       "3     49026                     The Dark Knight Rises   \n",
       "4     49529                               John Carter   \n",
       "\n",
       "                                                tags  \n",
       "0  in the 22nd century, a paraplegic marine is di...  \n",
       "1  captain barbossa, long believed to be dead, ha...  \n",
       "2  a cryptic message from bond’s past sends him o...  \n",
       "3  following the death of district attorney harve...  \n",
       "4  john carter is a war-weary, former military ca...  "
      ]
     },
     "execution_count": 139,
     "metadata": {},
     "output_type": "execute_result"
    }
   ],
   "source": [
    "#create new_df\n",
    "new_df = movies[['movie_id','title','tags']]\n",
    "new_df['tags'] = new_df['tags'].apply(lambda x : \" \".join(x))\n",
    "new_df['tags'] = new_df['tags'].apply(lambda x : x.lower())\n",
    "new_df.head()\n"
   ]
  },
  {
   "cell_type": "code",
   "execution_count": 140,
   "id": "b55e9006-7352-42bb-846d-ebfe83df7c07",
   "metadata": {},
   "outputs": [],
   "source": [
    "def stem(text):\n",
    "    y = []\n",
    "    for i in text:\n",
    "        y.append(ps.stem(i))\n",
    "    return \" \".join(y)"
   ]
  },
  {
   "cell_type": "code",
   "execution_count": 141,
   "id": "120b88b2-beaf-42c9-9f9a-39180697b1e4",
   "metadata": {},
   "outputs": [
    {
     "data": {
      "text/plain": [
       "'in the 22nd century, a parapleg marin is dispatch to the moon pandora on a uniqu mission, but becom torn between follow order and protect an alien civilization. action adventur fantasi sciencefict cultureclash futur spacewar spacecoloni societi spacetravel futurist romanc space alien tribe alienplanet cgi marin soldier battl loveaffair antiwar powerrel mindandsoul 3d samworthington zoesaldana sigourneyweav jamescameron'"
      ]
     },
     "execution_count": 141,
     "metadata": {},
     "output_type": "execute_result"
    }
   ],
   "source": [
    "from nltk.stem.porter import PorterStemmer\n",
    "ps = PorterStemmer()\n",
    "movies['tags'] = movies['tags'].apply(stem)\n",
    "movies['tags'][0]"
   ]
  },
  {
   "cell_type": "code",
   "execution_count": 142,
   "id": "43977bd5-ee29-482e-ae5f-82dd7838933d",
   "metadata": {},
   "outputs": [
    {
     "data": {
      "text/plain": [
       "array([[0, 0, 0, ..., 0, 0, 0],\n",
       "       [0, 0, 0, ..., 0, 0, 0],\n",
       "       [0, 0, 0, ..., 0, 0, 0],\n",
       "       ...,\n",
       "       [0, 0, 0, ..., 0, 0, 0],\n",
       "       [0, 0, 0, ..., 0, 0, 0],\n",
       "       [0, 0, 0, ..., 0, 0, 0]])"
      ]
     },
     "execution_count": 142,
     "metadata": {},
     "output_type": "execute_result"
    }
   ],
   "source": [
    "cv = CountVectorizer(max_features=5000,stop_words='english')\n",
    "vectors = cv.fit_transform(new_df['tags']).toarray()\n",
    "vectors"
   ]
  },
  {
   "cell_type": "code",
   "execution_count": 143,
   "id": "879e247a-a294-42e2-a33c-7d1cafed7657",
   "metadata": {},
   "outputs": [
    {
     "data": {
      "text/plain": [
       "array([[1.        , 0.08964215, 0.05976143, ..., 0.02519763, 0.02817181,\n",
       "        0.        ],\n",
       "       [0.08964215, 1.        , 0.0625    , ..., 0.02635231, 0.        ,\n",
       "        0.        ],\n",
       "       [0.05976143, 0.0625    , 1.        , ..., 0.02635231, 0.        ,\n",
       "        0.        ],\n",
       "       ...,\n",
       "       [0.02519763, 0.02635231, 0.02635231, ..., 1.        , 0.0745356 ,\n",
       "        0.04836508],\n",
       "       [0.02817181, 0.        , 0.        , ..., 0.0745356 , 1.        ,\n",
       "        0.05407381],\n",
       "       [0.        , 0.        , 0.        , ..., 0.04836508, 0.05407381,\n",
       "        1.        ]])"
      ]
     },
     "execution_count": 143,
     "metadata": {},
     "output_type": "execute_result"
    }
   ],
   "source": [
    "from sklearn.metrics.pairwise import cosine_similarity\n",
    "similarity = cosine_similarity(vectors)\n",
    "similarity"
   ]
  },
  {
   "cell_type": "code",
   "execution_count": 144,
   "id": "8c5c2dbc-d132-4450-a082-5f211468e6df",
   "metadata": {},
   "outputs": [],
   "source": [
    "def recommend(movie):\n",
    "    movie_index = new_df[new_df['title'] == movie].index[0]\n",
    "    distances = similarity[movie_index]\n",
    "    distances = list(enumerate(distances))\n",
    "    movies_list = sorted(distances,reverse=True,key=lambda x : x[1])[1:6]\n",
    "    for i in movies_list:\n",
    "        print(new_df.iloc[i[0]].title)\n",
    "# return"
   ]
  },
  {
   "cell_type": "code",
   "execution_count": 145,
   "id": "64b244ce-4ce3-407a-b83f-34b2db75e92a",
   "metadata": {},
   "outputs": [
    {
     "name": "stdout",
     "output_type": "stream",
     "text": [
      "The Dark Knight\n",
      "The Dark Knight Rises\n",
      "Batman\n",
      "Batman & Robin\n",
      "Batman\n"
     ]
    }
   ],
   "source": [
    "recommend('Batman Begins')\n",
    "\n"
   ]
  },
  {
   "cell_type": "code",
   "execution_count": 146,
   "id": "1f9189e7-4fd6-43cc-bf03-76aea3e311f8",
   "metadata": {},
   "outputs": [],
   "source": [
    "import pickle\n",
    "pickle.dump(new_df.to_dict(),open('movie_dict.pkl','wb'));\n",
    "pickle.dump(similarity,open('similarity.pkl','wb'));\n"
   ]
  },
  {
   "cell_type": "code",
   "execution_count": null,
   "id": "7418b62e-9aa1-4847-b1a6-2157f5442251",
   "metadata": {},
   "outputs": [],
   "source": []
  },
  {
   "cell_type": "code",
   "execution_count": null,
   "id": "f96ab087-5a73-4a11-b0e3-e5708203b060",
   "metadata": {},
   "outputs": [],
   "source": []
  },
  {
   "cell_type": "code",
   "execution_count": null,
   "id": "1296f33b-d3ae-41f4-8696-9e13ea1b7e24",
   "metadata": {},
   "outputs": [],
   "source": []
  },
  {
   "cell_type": "code",
   "execution_count": null,
   "id": "754a20bb-388e-4809-b30b-4e758466d081",
   "metadata": {},
   "outputs": [],
   "source": []
  },
  {
   "cell_type": "code",
   "execution_count": null,
   "id": "cf7d9da4-0f2c-49b8-8d9f-dc2a6f1cbce9",
   "metadata": {},
   "outputs": [],
   "source": []
  }
 ],
 "metadata": {
  "kernelspec": {
   "display_name": "Python 3 (ipykernel)",
   "language": "python",
   "name": "python3"
  },
  "language_info": {
   "codemirror_mode": {
    "name": "ipython",
    "version": 3
   },
   "file_extension": ".py",
   "mimetype": "text/x-python",
   "name": "python",
   "nbconvert_exporter": "python",
   "pygments_lexer": "ipython3",
   "version": "3.12.7"
  }
 },
 "nbformat": 4,
 "nbformat_minor": 5
}
